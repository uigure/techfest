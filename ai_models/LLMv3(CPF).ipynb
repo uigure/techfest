{
  "cells": [
    {
      "cell_type": "code",
      "execution_count": 1,
      "metadata": {
        "colab": {
          "base_uri": "https://localhost:8080/"
        },
        "id": "QPhM8R3yWa0P",
        "outputId": "b32aa74d-1610-4faf-e6bc-e30c543cdd4c"
      },
      "outputs": [
        {
          "output_type": "stream",
          "name": "stdout",
          "text": [
            "Requirement already satisfied: llama-cpp-python in /usr/local/lib/python3.10/dist-packages (0.2.38)\n",
            "Requirement already satisfied: typing-extensions>=4.5.0 in /usr/local/lib/python3.10/dist-packages (from llama-cpp-python) (4.5.0)\n",
            "Requirement already satisfied: numpy>=1.20.0 in /usr/local/lib/python3.10/dist-packages (from llama-cpp-python) (1.23.5)\n",
            "Requirement already satisfied: diskcache>=5.6.1 in /usr/local/lib/python3.10/dist-packages (from llama-cpp-python) (5.6.3)\n",
            "Requirement already satisfied: jinja2>=2.11.3 in /usr/local/lib/python3.10/dist-packages (from llama-cpp-python) (3.1.3)\n",
            "Requirement already satisfied: MarkupSafe>=2.0 in /usr/local/lib/python3.10/dist-packages (from jinja2>=2.11.3->llama-cpp-python) (2.1.4)\n"
          ]
        }
      ],
      "source": [
        "!CMAKE_ARGS=\"-DLLAMA_CUBLAS=on\" pip install llama-cpp-python"
      ]
    },
    {
      "cell_type": "code",
      "execution_count": 2,
      "metadata": {
        "colab": {
          "base_uri": "https://localhost:8080/"
        },
        "id": "YH0bc73VXBe0",
        "outputId": "2bc72c5c-432b-4151-e454-f6722d89a2aa"
      },
      "outputs": [
        {
          "output_type": "stream",
          "name": "stdout",
          "text": [
            "Requirement already satisfied: huggingface-hub in /usr/local/lib/python3.10/dist-packages (0.20.3)\n",
            "Requirement already satisfied: filelock in /usr/local/lib/python3.10/dist-packages (from huggingface-hub) (3.13.1)\n",
            "Requirement already satisfied: fsspec>=2023.5.0 in /usr/local/lib/python3.10/dist-packages (from huggingface-hub) (2023.6.0)\n",
            "Requirement already satisfied: requests in /usr/local/lib/python3.10/dist-packages (from huggingface-hub) (2.31.0)\n",
            "Requirement already satisfied: tqdm>=4.42.1 in /usr/local/lib/python3.10/dist-packages (from huggingface-hub) (4.66.1)\n",
            "Requirement already satisfied: pyyaml>=5.1 in /usr/local/lib/python3.10/dist-packages (from huggingface-hub) (6.0.1)\n",
            "Requirement already satisfied: typing-extensions>=3.7.4.3 in /usr/local/lib/python3.10/dist-packages (from huggingface-hub) (4.5.0)\n",
            "Requirement already satisfied: packaging>=20.9 in /usr/local/lib/python3.10/dist-packages (from huggingface-hub) (23.2)\n",
            "Requirement already satisfied: charset-normalizer<4,>=2 in /usr/local/lib/python3.10/dist-packages (from requests->huggingface-hub) (3.3.2)\n",
            "Requirement already satisfied: idna<4,>=2.5 in /usr/local/lib/python3.10/dist-packages (from requests->huggingface-hub) (3.6)\n",
            "Requirement already satisfied: urllib3<3,>=1.21.1 in /usr/local/lib/python3.10/dist-packages (from requests->huggingface-hub) (2.0.7)\n",
            "Requirement already satisfied: certifi>=2017.4.17 in /usr/local/lib/python3.10/dist-packages (from requests->huggingface-hub) (2023.11.17)\n"
          ]
        }
      ],
      "source": [
        "!pip install huggingface-hub"
      ]
    },
    {
      "cell_type": "code",
      "execution_count": 3,
      "metadata": {
        "colab": {
          "base_uri": "https://localhost:8080/"
        },
        "id": "qdmIO6UUXwV1",
        "outputId": "f4f3dbec-7633-4426-a8d0-ab8a6efa1cfb"
      },
      "outputs": [
        {
          "output_type": "stream",
          "name": "stdout",
          "text": [
            "Consider using `hf_transfer` for faster downloads. This solution comes with some limitations. See https://huggingface.co/docs/huggingface_hub/hf_transfer for more details.\n",
            "downloading https://huggingface.co/TheBloke/CapybaraHermes-2.5-Mistral-7B-GGUF/resolve/main/capybarahermes-2.5-mistral-7b.Q4_K_M.gguf to /root/.cache/huggingface/hub/tmp2dn5_9xa\n",
            "(…)apybarahermes-2.5-mistral-7b.Q4_K_M.gguf: 100% 4.37G/4.37G [00:36<00:00, 119MB/s]\n",
            "./capybarahermes-2.5-mistral-7b.Q4_K_M.gguf\n"
          ]
        }
      ],
      "source": [
        "!huggingface-cli download TheBloke/CapybaraHermes-2.5-Mistral-7B-GGUF capybarahermes-2.5-mistral-7b.Q4_K_M.gguf --local-dir . --local-dir-use-symlinks False"
      ]
    },
    {
      "cell_type": "code",
      "execution_count": 96,
      "metadata": {
        "id": "MKZmh8pwj08c"
      },
      "outputs": [],
      "source": [
        "def generate_sentences_and_storyboard(context):\n",
        "  from llama_cpp import Llama\n",
        "\n",
        "  # Set gpu_layers to the number of layers to offload to GPU. Set to 0 if no GPU acceleration is available on your system.\n",
        "  llm = Llama(\n",
        "    model_path=\"./capybarahermes-2.5-mistral-7b.Q4_K_M.gguf\",  # Download the model file first\n",
        "    n_ctx=32768,  # The max sequence length to use - note that longer sequence lengths require much more resources\n",
        "    n_threads=8,            # The number of CPU threads to use, tailor to your system and the resulting performance\n",
        "    n_gpu_layers=35         # The number of layers to offload to GPU, if you have GPU acceleration available\n",
        "  )\n",
        "  # Simple inference example\n",
        "  system_message=\"you are now a marketing designer for a video to promote a given policy. Come up with scenes and describe each scene with singaporean context and simple english and clearly on the shot also give content from the policy given to be narrated over. For example be specific Asian Family, Singaporean. Total minimum 25 scenes and 10 word max per sentence be clear and precise, the output format should strictly be Scene: Content: \"\n",
        "  prompt = context\n",
        "  output = llm(\n",
        "    f\"<|im_start|>system\\n{system_message}<|im_end|>\\n<|im_start|>user\\n{prompt}<|im_end|>\\n<|im_start|>assistant\", # Prompt\n",
        "    max_tokens=1024,  # Generate up to 1024 tokens\n",
        "    stop=[\"</s>\"],   # Example stop token - not necessarily correct for this specific model! Please check before using.\n",
        "    echo=False        # Whether to echo the prompt\n",
        ")\n",
        "  texts = output['choices'][0]['text']\n",
        "  list = texts.split('\\n')\n",
        "  print(texts)\n",
        "  storyboard = []\n",
        "  clean_sentences = []\n",
        "  narration = []\n",
        "  for sentence in list:\n",
        "    if 'Scene: ' in sentence:\n",
        "      clean_sentences.append(sentence.split('Scene: ')[1])\n",
        "      storyboard.append(sentence)\n",
        "    elif 'Content: ' in sentence:\n",
        "      narration.append(sentence.split('Content: ')[1])\n",
        "      storyboard.append(sentence)\n",
        "\n",
        "  return clean_sentences, storyboard, narration"
      ]
    },
    {
      "cell_type": "code",
      "execution_count": 68,
      "metadata": {
        "id": "pBMLP3zE4ODU"
      },
      "outputs": [],
      "source": [
        "def generate_text_for_voiceover(data):\n",
        "  from llama_cpp import Llama\n",
        "  no_of_sentences=len(data)\n",
        "  # Concatenated the sentences:\n",
        "  combined_sentences=''\n",
        "  for sentence in data:\n",
        "    combined_sentences+= sentence + '\\n'\n",
        "\n",
        "  # Set gpu_layers to the number of layers to offload to GPU. Set to 0 if no GPU acceleration is available on your system.\n",
        "  llm = Llama(\n",
        "    model_path=\"./capybarahermes-2.5-mistral-7b.Q4_K_M.gguf\",  # Download the model file first\n",
        "    n_ctx=32768,  # The max sequence length to use - note that longer sequence lengths require much more resources\n",
        "    n_threads=8,            # The number of CPU threads to use, tailor to your system and the resulting performance\n",
        "    n_gpu_layers=35         # The number of layers to offload to GPU, if you have GPU acceleration available\n",
        "  )\n",
        "  # Simple inference example\n",
        "  system_message=f\"You are required to make a script for narration based on the context given without changing the facts, the output will be a paragraph that is {no_of_sentences*10} words speech do not exceed the word limit.\"\n",
        "  prompt = combined_sentences\n",
        "  output = llm(\n",
        "    f\"<|im_start|>system\\n{system_message}<|im_end|>\\n<|im_start|>user\\n{prompt}<|im_end|>\\n<|im_start|>assistant\", # Prompt\n",
        "    max_tokens=512,  # Generate up to 512 tokens\n",
        "    stop=[\"</s>\"],   # Example stop token - not necessarily correct for this specific model! Please check before using.\n",
        "    echo=False        # Whether to echo the prompt\n",
        ")\n",
        "  texts = output['choices'][0]['text']\n",
        "  return texts"
      ]
    },
    {
      "cell_type": "code",
      "execution_count": 69,
      "metadata": {
        "id": "jl4r80GZFjTv"
      },
      "outputs": [],
      "source": [
        "def generate_title_and_tagline(context):\n",
        "  from llama_cpp import Llama\n",
        "\n",
        "  # Set gpu_layers to the number of layers to offload to GPU. Set to 0 if no GPU acceleration is available on your system.\n",
        "  llm = Llama(\n",
        "    model_path=\"./capybarahermes-2.5-mistral-7b.Q4_K_M.gguf\",  # Download the model file first\n",
        "    n_ctx=32768,  # The max sequence length to use - note that longer sequence lengths require much more resources\n",
        "    n_threads=8,            # The number of CPU threads to use, tailor to your system and the resulting performance\n",
        "    n_gpu_layers=35         # The number of layers to offload to GPU, if you have GPU acceleration available\n",
        "  )\n",
        "  # Simple inference example\n",
        "  system_message=\"You are required to generate a title and a tagline based on the content given\"\n",
        "  prompt = context\n",
        "  output = llm(\n",
        "    f\"<|im_start|>system\\n{system_message}<|im_end|>\\n<|im_start|>user\\n{prompt}<|im_end|>\\n<|im_start|>assistant\", # Prompt\n",
        "    max_tokens=512,  # Generate up to 512 tokens\n",
        "    stop=[\"</s>\"],   # Example stop token - not necessarily correct for this specific model! Please check before using.\n",
        "    echo=False        # Whether to echo the prompt\n",
        ")\n",
        "  texts = output['choices'][0]['text']\n",
        "  texts = texts.split('\\n')\n",
        "  for sentence in texts:\n",
        "    if 'Title: ' in sentence:\n",
        "      # Note that the title has \"\"\n",
        "      title=sentence.split('Title: ')[1].replace('\"','')\n",
        "    elif 'Tagline: ' in sentence:\n",
        "      tagline=sentence.split('Tagline: ')[1].replace('\"','').rstrip('.')\n",
        "  return tagline, title"
      ]
    },
    {
      "cell_type": "code",
      "execution_count": 70,
      "metadata": {
        "id": "NnPt6LL5BBtb"
      },
      "outputs": [],
      "source": [
        "def generate_theme_for_music(context):\n",
        "  from llama_cpp import Llama\n",
        "\n",
        "  # Set gpu_layers to the number of layers to offload to GPU. Set to 0 if no GPU acceleration is available on your system.\n",
        "  llm = Llama(\n",
        "    model_path=\"./capybarahermes-2.5-mistral-7b.Q4_K_M.gguf\",  # Download the model file first\n",
        "    n_ctx=32768,  # The max sequence length to use - note that longer sequence lengths require much more resources\n",
        "    n_threads=8,            # The number of CPU threads to use, tailor to your system and the resulting performance\n",
        "    n_gpu_layers=35         # The number of layers to offload to GPU, if you have GPU acceleration available\n",
        "  )\n",
        "  # Simple inference example\n",
        "  system_message=\"You are required to generate a music genre name fit for a background music over the content. The output will be the genre only.\"\n",
        "  prompt = context\n",
        "  output = llm(\n",
        "    f\"<|im_start|>system\\n{system_message}<|im_end|>\\n<|im_start|>user\\n{prompt}<|im_end|>\\n<|im_start|>assistant\", # Prompt\n",
        "    max_tokens=512,  # Generate up to 512 tokens\n",
        "    stop=[\"</s>\"],   # Example stop token - not necessarily correct for this specific model! Please check before using.\n",
        "    echo=False        # Whether to echo the prompt\n",
        ")\n",
        "  texts = output['choices'][0]['text']\n",
        "  texts = texts.split('\\n')\n",
        "\n",
        "  for text in texts:\n",
        "    if text !='':\n",
        "      genre= text\n",
        "  return genre"
      ]
    },
    {
      "cell_type": "code",
      "execution_count": 97,
      "metadata": {
        "id": "qit3gpxN-JNj"
      },
      "outputs": [],
      "source": [
        "context = \"\"\"Singapore will launch a series of policies in the coming months to reduce the impact of inflation on people’s cost of living, including new workplace family supportive policies, according to its Budget for 2023.\n",
        "\n",
        "Mayumi Soh of Pinsent Masons MPillay, the Singapore joint law venture between MPillay and Pinsent Masons, said: “Rising costs of living poses a serious concern for many Singaporeans amidst global uncertainty, and the Singapore government’s Budget 2023 seeks to introduce measures to alleviate some of these concerns.”\n",
        "\n",
        "According to the Budget announcement, Singapore’s government-paid paternity leave will be doubled from two weeks to four weeks from 1 January 2024. In the meantime, employers will retain the option to grant the two extra weeks of leave voluntarily and any additional leave granted will be reimbursed by the government accordingly. Unpaid infant care leave will be increased from six days to 12 days a year for each parent in the child’s first two years.\n",
        "\n",
        "The baby bonus cash gift will also be increased by S$3,000 for each eligible Singaporean child born from 14 February 2024 – the bonus will be paid every six months until the child turns six-and-a-half years old. The Child Development Account (CDA) First Step Grant will be increased from S$3,000 to S$5,000.\n",
        "\n",
        "The Central Provident Fund (CPF) monthly salary ceiling will be increased in stages from S$6,000 to S$8,000 by 2026. From September, it will be raised from S$6,000 to S$6,300 and will subsequently increase to S$6,800 from January 2024; S$7,400 from January 2025; and S$8,000 from January 2026. The CPF annual salary ceiling will remain the same at S$102,000. The minimum CPF monthly payout for seniors on the Retirement Sum Scheme will be raised from S$250 to S$350 effective from 1 June.\n",
        "\n",
        "The government will also provide a one-time cost-of-living special payment to Singaporeans aged 21 and above in 2023 who have an annual assessable income below S$100,000 and who do not own more than one property. Singaporeans who earn S$22,000 each year will receive S$400; those who earn between S$22,000 and S$34,000 will receive S$300; and those who earn over S$34,000 and up to S$100,000 will receive S$200. The money will be distributed in June.\n",
        "\n",
        "Also, the government will increase the home grant by up to S$30,000 for families who buy resale flats for the first time based on the flat size. Families will only be eligible for the grant if they do not earn over S$14,000 monthly and do not own any private property.\n",
        "\n",
        "Lastly, there will be a higher marginal buyer’s stamp duty applied to all properties bought from 15 February. For residential properties, the portion of the property value over S$1.5 million and up to S$3m will be taxed at 5%, while the part over S$3m will be taxed at 6%, up from the existing rate of 4%. For non-residential properties, the part of the property value over S$1m and up to S$1.5m will be taxed at 4%, while the part over S$1.5m will be taxed at 5%, up from existing 3%. The initiative seeks to target higher-value properties as part of an enhanced property cooling measure.\n",
        "\"\"\""
      ]
    },
    {
      "cell_type": "code",
      "source": [
        "data, story, narration = generate_sentences_and_storyboard(context)"
      ],
      "metadata": {
        "colab": {
          "base_uri": "https://localhost:8080/"
        },
        "id": "99REdjw1fblV",
        "outputId": "02e7c82b-c97c-4916-f329-3832cb4de033"
      },
      "execution_count": 98,
      "outputs": [
        {
          "output_type": "stream",
          "name": "stderr",
          "text": [
            "AVX = 1 | AVX_VNNI = 0 | AVX2 = 1 | AVX512 = 1 | AVX512_VBMI = 0 | AVX512_VNNI = 0 | FMA = 1 | NEON = 0 | ARM_FMA = 0 | F16C = 1 | FP16_VA = 0 | WASM_SIMD = 0 | BLAS = 1 | SSE3 = 1 | SSSE3 = 1 | VSX = 0 | \n",
            "Model metadata: {'tokenizer.chat_template': \"{% for message in messages %}{{'<|im_start|>' + message['role'] + '\\n' + message['content'] + '<|im_end|>' + '\\n'}}{% endfor %}{% if add_generation_prompt %}{{ '<|im_start|>assistant\\n' }}{% endif %}\", 'tokenizer.ggml.add_eos_token': 'false', 'tokenizer.ggml.padding_token_id': '0', 'tokenizer.ggml.unknown_token_id': '0', 'tokenizer.ggml.eos_token_id': '32000', 'general.architecture': 'llama', 'llama.rope.freq_base': '10000.000000', 'llama.context_length': '32768', 'general.name': 'argilla_capybarahermes-2.5-mistral-7b', 'tokenizer.ggml.add_bos_token': 'true', 'llama.embedding_length': '4096', 'llama.feed_forward_length': '14336', 'llama.attention.layer_norm_rms_epsilon': '0.000010', 'llama.rope.dimension_count': '128', 'tokenizer.ggml.bos_token_id': '1', 'llama.attention.head_count': '32', 'llama.block_count': '32', 'llama.attention.head_count_kv': '8', 'general.quantization_version': '2', 'tokenizer.ggml.model': 'llama', 'general.file_type': '15'}\n",
            "Guessed chat format: chatml\n"
          ]
        },
        {
          "output_type": "stream",
          "name": "stdout",
          "text": [
            "\n",
            "Scene: A working-class Singaporean family having dinner at home.\n",
            "Content: Inflation is affecting people's cost of living in Singapore.\n",
            "\n",
            "Scene: A mother struggling with groceries in a supermarket, looking concerned.\n",
            "Content: The government's Budget 2023 aims to alleviate these concerns.\n",
            "\n",
            "Scene: Mayumi Soh of Pinsent Masons MPillay explaining the measures in the Budget announcement.\n",
            "Content: New workplace family supportive policies are introduced.\n",
            "\n",
            "Scene: A father holding a newborn baby in their home.\n",
            "Content: Paternity leave will be doubled from 2 weeks to 4 weeks starting 1 January 2024.\n",
            "\n",
            "Scene: A father at work, talking on the phone.\n",
            "Content: Employers can choose to grant additional two weeks of leave, reimbursed by the government.\n",
            "\n",
            "Scene: A mother caring for her baby at home.\n",
            "Content: Unpaid infant care leave increased from 6 days to 12 days per year for each parent in a child's first two years.\n",
            "\n",
            "Scene: A young family receiving a check in celebration of their new baby.\n",
            "Content: Baby bonus cash gift increased by S$3,000 per eligible child.\n",
            "\n",
            "Scene: A child standing in front of a CDA First Step Grant banner.\n",
            "Content: CDA First Step Grant increased from S$3,000 to S$5,000.\n",
            "\n",
            "Scene: A middle-aged couple discussing finances at their kitchen table.\n",
            "Content: CPF monthly salary ceiling increased in stages to S$8,000 by 2026.\n",
            "\n",
            "Scene: A senior couple holding hands, smiling at camera.\n",
            "Content: Minimum CPF monthly payout for seniors raised from S$250 to S$350, effective 1 June.\n",
            "\n",
            "Scene: A young adult receiving a letter in the mail.\n",
            "Content: One-time cost-of-living special payment distributed to eligible Singaporeans in June 2023.\n",
            "\n",
            "Scene: A young couple visiting an open house for resale flats.\n",
            "Content: Increased home grant of up to S$30,000 for first-time buyers of resale flats.\n",
            "\n",
            "Scene: A family looking at a property with a real estate agent.\n",
            "Content: Higher marginal buyer's stamp duty applied to properties purchased from 15 February, targeting higher-value properties.\n",
            "\n",
            "Scene: A working-class family celebrating together at home, smiling at camera.\n",
            "Content: Singapore's government working to make life more affordable for families.\n"
          ]
        }
      ]
    },
    {
      "cell_type": "code",
      "execution_count": 99,
      "metadata": {
        "colab": {
          "base_uri": "https://localhost:8080/"
        },
        "id": "jf_n-aWw6SYd",
        "outputId": "e29c8e41-6820-45ce-a5d4-0110eba8755e"
      },
      "outputs": [
        {
          "output_type": "stream",
          "name": "stderr",
          "text": [
            "AVX = 1 | AVX_VNNI = 0 | AVX2 = 1 | AVX512 = 1 | AVX512_VBMI = 0 | AVX512_VNNI = 0 | FMA = 1 | NEON = 0 | ARM_FMA = 0 | F16C = 1 | FP16_VA = 0 | WASM_SIMD = 0 | BLAS = 1 | SSE3 = 1 | SSSE3 = 1 | VSX = 0 | \n",
            "Model metadata: {'tokenizer.chat_template': \"{% for message in messages %}{{'<|im_start|>' + message['role'] + '\\n' + message['content'] + '<|im_end|>' + '\\n'}}{% endfor %}{% if add_generation_prompt %}{{ '<|im_start|>assistant\\n' }}{% endif %}\", 'tokenizer.ggml.add_eos_token': 'false', 'tokenizer.ggml.padding_token_id': '0', 'tokenizer.ggml.unknown_token_id': '0', 'tokenizer.ggml.eos_token_id': '32000', 'general.architecture': 'llama', 'llama.rope.freq_base': '10000.000000', 'llama.context_length': '32768', 'general.name': 'argilla_capybarahermes-2.5-mistral-7b', 'tokenizer.ggml.add_bos_token': 'true', 'llama.embedding_length': '4096', 'llama.feed_forward_length': '14336', 'llama.attention.layer_norm_rms_epsilon': '0.000010', 'llama.rope.dimension_count': '128', 'tokenizer.ggml.bos_token_id': '1', 'llama.attention.head_count': '32', 'llama.block_count': '32', 'llama.attention.head_count_kv': '8', 'general.quantization_version': '2', 'tokenizer.ggml.model': 'llama', 'general.file_type': '15'}\n",
            "Guessed chat format: chatml\n",
            "AVX = 1 | AVX_VNNI = 0 | AVX2 = 1 | AVX512 = 1 | AVX512_VBMI = 0 | AVX512_VNNI = 0 | FMA = 1 | NEON = 0 | ARM_FMA = 0 | F16C = 1 | FP16_VA = 0 | WASM_SIMD = 0 | BLAS = 1 | SSE3 = 1 | SSSE3 = 1 | VSX = 0 | \n",
            "Model metadata: {'tokenizer.chat_template': \"{% for message in messages %}{{'<|im_start|>' + message['role'] + '\\n' + message['content'] + '<|im_end|>' + '\\n'}}{% endfor %}{% if add_generation_prompt %}{{ '<|im_start|>assistant\\n' }}{% endif %}\", 'tokenizer.ggml.add_eos_token': 'false', 'tokenizer.ggml.padding_token_id': '0', 'tokenizer.ggml.unknown_token_id': '0', 'tokenizer.ggml.eos_token_id': '32000', 'general.architecture': 'llama', 'llama.rope.freq_base': '10000.000000', 'llama.context_length': '32768', 'general.name': 'argilla_capybarahermes-2.5-mistral-7b', 'tokenizer.ggml.add_bos_token': 'true', 'llama.embedding_length': '4096', 'llama.feed_forward_length': '14336', 'llama.attention.layer_norm_rms_epsilon': '0.000010', 'llama.rope.dimension_count': '128', 'tokenizer.ggml.bos_token_id': '1', 'llama.attention.head_count': '32', 'llama.block_count': '32', 'llama.attention.head_count_kv': '8', 'general.quantization_version': '2', 'tokenizer.ggml.model': 'llama', 'general.file_type': '15'}\n",
            "Guessed chat format: chatml\n",
            "AVX = 1 | AVX_VNNI = 0 | AVX2 = 1 | AVX512 = 1 | AVX512_VBMI = 0 | AVX512_VNNI = 0 | FMA = 1 | NEON = 0 | ARM_FMA = 0 | F16C = 1 | FP16_VA = 0 | WASM_SIMD = 0 | BLAS = 1 | SSE3 = 1 | SSSE3 = 1 | VSX = 0 | \n",
            "Model metadata: {'tokenizer.chat_template': \"{% for message in messages %}{{'<|im_start|>' + message['role'] + '\\n' + message['content'] + '<|im_end|>' + '\\n'}}{% endfor %}{% if add_generation_prompt %}{{ '<|im_start|>assistant\\n' }}{% endif %}\", 'tokenizer.ggml.add_eos_token': 'false', 'tokenizer.ggml.padding_token_id': '0', 'tokenizer.ggml.unknown_token_id': '0', 'tokenizer.ggml.eos_token_id': '32000', 'general.architecture': 'llama', 'llama.rope.freq_base': '10000.000000', 'llama.context_length': '32768', 'general.name': 'argilla_capybarahermes-2.5-mistral-7b', 'tokenizer.ggml.add_bos_token': 'true', 'llama.embedding_length': '4096', 'llama.feed_forward_length': '14336', 'llama.attention.layer_norm_rms_epsilon': '0.000010', 'llama.rope.dimension_count': '128', 'tokenizer.ggml.bos_token_id': '1', 'llama.attention.head_count': '32', 'llama.block_count': '32', 'llama.attention.head_count_kv': '8', 'general.quantization_version': '2', 'tokenizer.ggml.model': 'llama', 'general.file_type': '15'}\n",
            "Guessed chat format: chatml\n"
          ]
        }
      ],
      "source": [
        "tagline, title = generate_title_and_tagline(context)\n",
        "summary = generate_text_for_voiceover(narration)\n",
        "genre=generate_theme_for_music(context)\n",
        "string = f'{tagline}, with title \"{title}\" on it,Movie Poster, MoviePosterRedAF,,'"
      ]
    },
    {
      "cell_type": "code",
      "execution_count": 81,
      "metadata": {
        "colab": {
          "base_uri": "https://localhost:8080/",
          "height": 87
        },
        "id": "2K3cz2HEEPyH",
        "outputId": "967fe478-0ede-4528-ff4a-753a44634bee"
      },
      "outputs": [
        {
          "output_type": "execute_result",
          "data": {
            "text/plain": [
              "'Government introduces measures including extended paternity leave, increased baby bonus, and higher home grants while implementing higher marginal buyer\\'s stamp duty for higher-value properties, with title \"Singapore\\'s 2023 Budget: Enhancing Family Support and Combat Inflation through Policy Updates\" on it,Movie Poster, MoviePosterRedAF,,'"
            ],
            "application/vnd.google.colaboratory.intrinsic+json": {
              "type": "string"
            }
          },
          "metadata": {},
          "execution_count": 81
        }
      ],
      "source": [
        "string"
      ]
    },
    {
      "cell_type": "code",
      "source": [
        "narration"
      ],
      "metadata": {
        "colab": {
          "base_uri": "https://localhost:8080/"
        },
        "id": "-IFZGB34d278",
        "outputId": "4afc6291-af7b-4169-bca5-ba57daea9b56"
      },
      "execution_count": 100,
      "outputs": [
        {
          "output_type": "execute_result",
          "data": {
            "text/plain": [
              "[\"Inflation is affecting people's cost of living in Singapore.\",\n",
              " \"The government's Budget 2023 aims to alleviate these concerns.\",\n",
              " 'New workplace family supportive policies are introduced.',\n",
              " 'Paternity leave will be doubled from 2 weeks to 4 weeks starting 1 January 2024.',\n",
              " 'Employers can choose to grant additional two weeks of leave, reimbursed by the government.',\n",
              " \"Unpaid infant care leave increased from 6 days to 12 days per year for each parent in a child's first two years.\",\n",
              " 'Baby bonus cash gift increased by S$3,000 per eligible child.',\n",
              " 'CDA First Step Grant increased from S$3,000 to S$5,000.',\n",
              " 'CPF monthly salary ceiling increased in stages to S$8,000 by 2026.',\n",
              " 'Minimum CPF monthly payout for seniors raised from S$250 to S$350, effective 1 June.',\n",
              " 'One-time cost-of-living special payment distributed to eligible Singaporeans in June 2023.',\n",
              " 'Increased home grant of up to S$30,000 for first-time buyers of resale flats.',\n",
              " \"Higher marginal buyer's stamp duty applied to properties purchased from 15 February, targeting higher-value properties.\",\n",
              " \"Singapore's government working to make life more affordable for families.\"]"
            ]
          },
          "metadata": {},
          "execution_count": 100
        }
      ]
    },
    {
      "cell_type": "code",
      "source": [
        "summary"
      ],
      "metadata": {
        "colab": {
          "base_uri": "https://localhost:8080/",
          "height": 191
        },
        "id": "3lAcxQHOLUt6",
        "outputId": "bd9345a8-89f7-49ae-eb2a-64c48c0221d4"
      },
      "execution_count": 101,
      "outputs": [
        {
          "output_type": "execute_result",
          "data": {
            "text/plain": [
              "\"\\nInflation has been a significant concern for individuals in Singapore, impacting their daily expenses. To alleviate these issues, the government has crafted the Budget 2023, which aims to provide relief and support for families. A key part of this is the introduction of new workplace family supportive policies. From January 2024, paternity leave will be doubled from two weeks to four weeks, with employers having the option to grant additional two weeks of leave reimbursed by the government. Parental leave has also been increased from six days per year to twelve days per year for each parent during their child's first two years.\\n\\nTo further support families, the baby bonus cash gift has increased by S$3,000 per eligible child, and the CDA First Step Grant has been raised from S$3,000 to S$5,000. In addition, the CPF monthly salary ceiling has been increased in stages up to S$8,000 by 2026. The minimum CPF monthly payout for seniors has also been raised from S$250 to S$350 starting from June.\\n\\nTo help with immediate costs, eligible Singaporeans can expect a one-time cost-of-living special payment distributed in June 2023. First-time buyers of resale flats will benefit from an increased home grant of up to S$30,000. The government has also applied higher marginal buyer's stamp duty on properties purchased from February 15, targeting higher-value properties. This Budget 2023 package demonstrates Singapore's government's commitment to making life more affordable and supportive for families.\""
            ],
            "application/vnd.google.colaboratory.intrinsic+json": {
              "type": "string"
            }
          },
          "metadata": {},
          "execution_count": 101
        }
      ]
    },
    {
      "cell_type": "code",
      "source": [
        "data"
      ],
      "metadata": {
        "colab": {
          "base_uri": "https://localhost:8080/"
        },
        "id": "Q1NgroBlMIYH",
        "outputId": "ee735979-645f-4caa-8246-f6087b29c63f"
      },
      "execution_count": 102,
      "outputs": [
        {
          "output_type": "execute_result",
          "data": {
            "text/plain": [
              "['A working-class Singaporean family having dinner at home.',\n",
              " 'A mother struggling with groceries in a supermarket, looking concerned.',\n",
              " 'Mayumi Soh of Pinsent Masons MPillay explaining the measures in the Budget announcement.',\n",
              " 'A father holding a newborn baby in their home.',\n",
              " 'A father at work, talking on the phone.',\n",
              " 'A mother caring for her baby at home.',\n",
              " 'A young family receiving a check in celebration of their new baby.',\n",
              " 'A child standing in front of a CDA First Step Grant banner.',\n",
              " 'A middle-aged couple discussing finances at their kitchen table.',\n",
              " 'A senior couple holding hands, smiling at camera.',\n",
              " 'A young adult receiving a letter in the mail.',\n",
              " 'A young couple visiting an open house for resale flats.',\n",
              " 'A family looking at a property with a real estate agent.',\n",
              " 'A working-class family celebrating together at home, smiling at camera.']"
            ]
          },
          "metadata": {},
          "execution_count": 102
        }
      ]
    },
    {
      "cell_type": "code",
      "source": [
        "genre"
      ],
      "metadata": {
        "colab": {
          "base_uri": "https://localhost:8080/",
          "height": 35
        },
        "id": "as9HDrqbMLM-",
        "outputId": "e9e3d3aa-0759-4b32-e981-86dfb5648d28"
      },
      "execution_count": 103,
      "outputs": [
        {
          "output_type": "execute_result",
          "data": {
            "text/plain": [
              "'Ambient Policy Pop'"
            ],
            "application/vnd.google.colaboratory.intrinsic+json": {
              "type": "string"
            }
          },
          "metadata": {},
          "execution_count": 103
        }
      ]
    },
    {
      "cell_type": "code",
      "source": [
        "story"
      ],
      "metadata": {
        "colab": {
          "base_uri": "https://localhost:8080/"
        },
        "id": "MOD3yps3MMXt",
        "outputId": "6390c432-3c5b-4948-f41f-220fcd22b8a2"
      },
      "execution_count": 104,
      "outputs": [
        {
          "output_type": "execute_result",
          "data": {
            "text/plain": [
              "['Scene: A working-class Singaporean family having dinner at home.',\n",
              " \"Content: Inflation is affecting people's cost of living in Singapore.\",\n",
              " 'Scene: A mother struggling with groceries in a supermarket, looking concerned.',\n",
              " \"Content: The government's Budget 2023 aims to alleviate these concerns.\",\n",
              " 'Scene: Mayumi Soh of Pinsent Masons MPillay explaining the measures in the Budget announcement.',\n",
              " 'Content: New workplace family supportive policies are introduced.',\n",
              " 'Scene: A father holding a newborn baby in their home.',\n",
              " 'Content: Paternity leave will be doubled from 2 weeks to 4 weeks starting 1 January 2024.',\n",
              " 'Scene: A father at work, talking on the phone.',\n",
              " 'Content: Employers can choose to grant additional two weeks of leave, reimbursed by the government.',\n",
              " 'Scene: A mother caring for her baby at home.',\n",
              " \"Content: Unpaid infant care leave increased from 6 days to 12 days per year for each parent in a child's first two years.\",\n",
              " 'Scene: A young family receiving a check in celebration of their new baby.',\n",
              " 'Content: Baby bonus cash gift increased by S$3,000 per eligible child.',\n",
              " 'Scene: A child standing in front of a CDA First Step Grant banner.',\n",
              " 'Content: CDA First Step Grant increased from S$3,000 to S$5,000.',\n",
              " 'Scene: A middle-aged couple discussing finances at their kitchen table.',\n",
              " 'Content: CPF monthly salary ceiling increased in stages to S$8,000 by 2026.',\n",
              " 'Scene: A senior couple holding hands, smiling at camera.',\n",
              " 'Content: Minimum CPF monthly payout for seniors raised from S$250 to S$350, effective 1 June.',\n",
              " 'Scene: A young adult receiving a letter in the mail.',\n",
              " 'Content: One-time cost-of-living special payment distributed to eligible Singaporeans in June 2023.',\n",
              " 'Scene: A young couple visiting an open house for resale flats.',\n",
              " 'Content: Increased home grant of up to S$30,000 for first-time buyers of resale flats.',\n",
              " 'Scene: A family looking at a property with a real estate agent.',\n",
              " \"Content: Higher marginal buyer's stamp duty applied to properties purchased from 15 February, targeting higher-value properties.\",\n",
              " 'Scene: A working-class family celebrating together at home, smiling at camera.',\n",
              " \"Content: Singapore's government working to make life more affordable for families.\"]"
            ]
          },
          "metadata": {},
          "execution_count": 104
        }
      ]
    },
    {
      "cell_type": "code",
      "source": [
        "import pickle"
      ],
      "metadata": {
        "id": "3fdJT8mr3aV9"
      },
      "execution_count": 107,
      "outputs": []
    },
    {
      "cell_type": "code",
      "source": [
        "# Specify file paths for each variable\n",
        "story_pickle_file = 'story_data.pickle'\n",
        "genre_pickle_file = 'genre_data.pickle'\n",
        "tagline_pickle_file = 'tagline_data.pickle'\n",
        "summary_pickle_file = 'summary_data.pickle'\n",
        "string_pickle_file = 'string_data.pickle'\n",
        "data_pickle_file = 'data.pickle'\n",
        "\n",
        "# Export each variable to its respective pickle file\n",
        "with open(story_pickle_file, 'wb') as pickle_file:\n",
        "    pickle.dump(story, pickle_file)\n",
        "\n",
        "with open(genre_pickle_file, 'wb') as pickle_file:\n",
        "    pickle.dump(genre, pickle_file)\n",
        "\n",
        "with open(tagline_pickle_file, 'wb') as pickle_file:\n",
        "    pickle.dump(tagline, pickle_file)\n",
        "\n",
        "with open(summary_pickle_file, 'wb') as pickle_file:\n",
        "    pickle.dump(summary, pickle_file)\n",
        "\n",
        "with open(string_pickle_file, 'wb') as pickle_file:\n",
        "    pickle.dump(string, pickle_file)\n",
        "\n",
        "with open(data_pickle_file, 'wb') as pickle_file:\n",
        "    pickle.dump(data, pickle_file)"
      ],
      "metadata": {
        "id": "VoOcDKSR21u2"
      },
      "execution_count": 108,
      "outputs": []
    },
    {
      "cell_type": "code",
      "source": [],
      "metadata": {
        "id": "rH_tdT3xdgM2"
      },
      "execution_count": null,
      "outputs": []
    }
  ],
  "metadata": {
    "accelerator": "GPU",
    "colab": {
      "provenance": [],
      "gpuType": "T4"
    },
    "kernelspec": {
      "display_name": "Python 3",
      "name": "python3"
    },
    "language_info": {
      "name": "python"
    }
  },
  "nbformat": 4,
  "nbformat_minor": 0
}