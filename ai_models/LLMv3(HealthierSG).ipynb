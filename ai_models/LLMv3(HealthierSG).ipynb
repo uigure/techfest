{
  "cells": [
    {
      "cell_type": "code",
      "execution_count": null,
      "metadata": {
        "colab": {
          "base_uri": "https://localhost:8080/"
        },
        "id": "QPhM8R3yWa0P",
        "outputId": "2c919d98-334c-4d21-a1e4-65905091f1b8"
      },
      "outputs": [
        {
          "output_type": "stream",
          "name": "stdout",
          "text": [
            "Collecting llama-cpp-python\n",
            "  Downloading llama_cpp_python-0.2.38.tar.gz (10.7 MB)\n",
            "\u001b[2K     \u001b[90m━━━━━━━━━━━━━━━━━━━━━━━━━━━━━━━━━━━━━━━━\u001b[0m \u001b[32m10.7/10.7 MB\u001b[0m \u001b[31m67.4 MB/s\u001b[0m eta \u001b[36m0:00:00\u001b[0m\n",
            "\u001b[?25h  Installing build dependencies ... \u001b[?25l\u001b[?25hdone\n",
            "  Getting requirements to build wheel ... \u001b[?25l\u001b[?25hdone\n",
            "  Installing backend dependencies ... \u001b[?25l\u001b[?25hdone\n",
            "  Preparing metadata (pyproject.toml) ... \u001b[?25l\u001b[?25hdone\n",
            "Requirement already satisfied: typing-extensions>=4.5.0 in /usr/local/lib/python3.10/dist-packages (from llama-cpp-python) (4.5.0)\n",
            "Requirement already satisfied: numpy>=1.20.0 in /usr/local/lib/python3.10/dist-packages (from llama-cpp-python) (1.23.5)\n",
            "Requirement already satisfied: diskcache>=5.6.1 in /usr/local/lib/python3.10/dist-packages (from llama-cpp-python) (5.6.3)\n",
            "Requirement already satisfied: jinja2>=2.11.3 in /usr/local/lib/python3.10/dist-packages (from llama-cpp-python) (3.1.3)\n",
            "Requirement already satisfied: MarkupSafe>=2.0 in /usr/local/lib/python3.10/dist-packages (from jinja2>=2.11.3->llama-cpp-python) (2.1.4)\n",
            "Building wheels for collected packages: llama-cpp-python\n",
            "  Building wheel for llama-cpp-python (pyproject.toml) ... \u001b[?25l\u001b[?25hdone\n",
            "  Created wheel for llama-cpp-python: filename=llama_cpp_python-0.2.38-cp310-cp310-manylinux_2_35_x86_64.whl size=9660822 sha256=897336c2591b1eeeae9299a370bdba7113a41c3e0fd66bbe72f6bafa36ca59d4\n",
            "  Stored in directory: /root/.cache/pip/wheels/eb/58/77/20d3d9a235b4930050fbcde1ad4f0a4d054644269e801b08aa\n",
            "Successfully built llama-cpp-python\n",
            "Installing collected packages: llama-cpp-python\n",
            "Successfully installed llama-cpp-python-0.2.38\n"
          ]
        }
      ],
      "source": [
        "!CMAKE_ARGS=\"-DLLAMA_CUBLAS=on\" pip install llama-cpp-python"
      ]
    },
    {
      "cell_type": "code",
      "execution_count": null,
      "metadata": {
        "colab": {
          "base_uri": "https://localhost:8080/"
        },
        "id": "YH0bc73VXBe0",
        "outputId": "a1f913e0-9948-4f36-dfaf-9a974cfaca98"
      },
      "outputs": [
        {
          "output_type": "stream",
          "name": "stdout",
          "text": [
            "Requirement already satisfied: huggingface-hub in /usr/local/lib/python3.10/dist-packages (0.20.3)\n",
            "Requirement already satisfied: filelock in /usr/local/lib/python3.10/dist-packages (from huggingface-hub) (3.13.1)\n",
            "Requirement already satisfied: fsspec>=2023.5.0 in /usr/local/lib/python3.10/dist-packages (from huggingface-hub) (2023.6.0)\n",
            "Requirement already satisfied: requests in /usr/local/lib/python3.10/dist-packages (from huggingface-hub) (2.31.0)\n",
            "Requirement already satisfied: tqdm>=4.42.1 in /usr/local/lib/python3.10/dist-packages (from huggingface-hub) (4.66.1)\n",
            "Requirement already satisfied: pyyaml>=5.1 in /usr/local/lib/python3.10/dist-packages (from huggingface-hub) (6.0.1)\n",
            "Requirement already satisfied: typing-extensions>=3.7.4.3 in /usr/local/lib/python3.10/dist-packages (from huggingface-hub) (4.5.0)\n",
            "Requirement already satisfied: packaging>=20.9 in /usr/local/lib/python3.10/dist-packages (from huggingface-hub) (23.2)\n",
            "Requirement already satisfied: charset-normalizer<4,>=2 in /usr/local/lib/python3.10/dist-packages (from requests->huggingface-hub) (3.3.2)\n",
            "Requirement already satisfied: idna<4,>=2.5 in /usr/local/lib/python3.10/dist-packages (from requests->huggingface-hub) (3.6)\n",
            "Requirement already satisfied: urllib3<3,>=1.21.1 in /usr/local/lib/python3.10/dist-packages (from requests->huggingface-hub) (2.0.7)\n",
            "Requirement already satisfied: certifi>=2017.4.17 in /usr/local/lib/python3.10/dist-packages (from requests->huggingface-hub) (2023.11.17)\n"
          ]
        }
      ],
      "source": [
        "!pip install huggingface-hub"
      ]
    },
    {
      "cell_type": "code",
      "execution_count": null,
      "metadata": {
        "colab": {
          "base_uri": "https://localhost:8080/"
        },
        "id": "qdmIO6UUXwV1",
        "outputId": "a80362b7-d01a-4a44-f410-482b447959ea"
      },
      "outputs": [
        {
          "output_type": "stream",
          "name": "stdout",
          "text": [
            "Consider using `hf_transfer` for faster downloads. This solution comes with some limitations. See https://huggingface.co/docs/huggingface_hub/hf_transfer for more details.\n",
            "downloading https://huggingface.co/TheBloke/CapybaraHermes-2.5-Mistral-7B-GGUF/resolve/main/capybarahermes-2.5-mistral-7b.Q4_K_M.gguf to /root/.cache/huggingface/hub/tmp4mpy3nt1\n",
            "(…)apybarahermes-2.5-mistral-7b.Q4_K_M.gguf: 100% 4.37G/4.37G [03:19<00:00, 21.9MB/s]\n",
            "./capybarahermes-2.5-mistral-7b.Q4_K_M.gguf\n"
          ]
        }
      ],
      "source": [
        "!huggingface-cli download TheBloke/CapybaraHermes-2.5-Mistral-7B-GGUF capybarahermes-2.5-mistral-7b.Q4_K_M.gguf --local-dir . --local-dir-use-symlinks False"
      ]
    },
    {
      "cell_type": "code",
      "execution_count": null,
      "metadata": {
        "id": "MKZmh8pwj08c"
      },
      "outputs": [],
      "source": [
        "def generate_sentences_and_storyboard(context):\n",
        "  from llama_cpp import Llama\n",
        "\n",
        "  # Set gpu_layers to the number of layers to offload to GPU. Set to 0 if no GPU acceleration is available on your system.\n",
        "  llm = Llama(\n",
        "    model_path=\"./capybarahermes-2.5-mistral-7b.Q4_K_M.gguf\",  # Download the model file first\n",
        "    n_ctx=32768,  # The max sequence length to use - note that longer sequence lengths require much more resources\n",
        "    n_threads=8,            # The number of CPU threads to use, tailor to your system and the resulting performance\n",
        "    n_gpu_layers=35         # The number of layers to offload to GPU, if you have GPU acceleration available\n",
        "  )\n",
        "  # Simple inference example\n",
        "  system_message=\"you are now a marketing designer for a video to promote a given policy. Come up with scenes and describe each scene with singaporean context and simple english and clearly on the shot also give content from the policy given to be narrated over. For example be specific Asian Family, Singaporean. Total minimum 25 scenes and 10 word max per sentence be clear and precise, the output format should strictly be Scene: Content: \"\n",
        "  prompt = context\n",
        "  output = llm(\n",
        "    f\"<|im_start|>system\\n{system_message}<|im_end|>\\n<|im_start|>user\\n{prompt}<|im_end|>\\n<|im_start|>assistant\", # Prompt\n",
        "    max_tokens=1024,  # Generate up to 1024 tokens\n",
        "    stop=[\"</s>\"],   # Example stop token - not necessarily correct for this specific model! Please check before using.\n",
        "    echo=False        # Whether to echo the prompt\n",
        ")\n",
        "  texts = output['choices'][0]['text']\n",
        "  list = texts.split('\\n')\n",
        "  print(texts)\n",
        "  storyboard = []\n",
        "  clean_sentences = []\n",
        "  narration = []\n",
        "  for sentence in list:\n",
        "    if 'Scene: ' in sentence:\n",
        "      clean_sentences.append(sentence.split('Scene: ')[1])\n",
        "      storyboard.append(sentence)\n",
        "    elif 'Content: ' in sentence:\n",
        "      narration.append(sentence.split('Content: ')[1])\n",
        "      storyboard.append(sentence)\n",
        "\n",
        "  return clean_sentences, storyboard, narration"
      ]
    },
    {
      "cell_type": "code",
      "execution_count": null,
      "metadata": {
        "id": "pBMLP3zE4ODU"
      },
      "outputs": [],
      "source": [
        "def generate_text_for_voiceover(data):\n",
        "  from llama_cpp import Llama\n",
        "  no_of_sentences=len(data)\n",
        "  # Concatenated the sentences:\n",
        "  combined_sentences=''\n",
        "  for sentence in data:\n",
        "    combined_sentences+= sentence + '\\n'\n",
        "\n",
        "  # Set gpu_layers to the number of layers to offload to GPU. Set to 0 if no GPU acceleration is available on your system.\n",
        "  llm = Llama(\n",
        "    model_path=\"./capybarahermes-2.5-mistral-7b.Q4_K_M.gguf\",  # Download the model file first\n",
        "    n_ctx=32768,  # The max sequence length to use - note that longer sequence lengths require much more resources\n",
        "    n_threads=8,            # The number of CPU threads to use, tailor to your system and the resulting performance\n",
        "    n_gpu_layers=35         # The number of layers to offload to GPU, if you have GPU acceleration available\n",
        "  )\n",
        "  # Simple inference example\n",
        "  system_message=f\"You are required to make a script for narration based on the context given without changing the facts, the output will be a paragraph that is {no_of_sentences*10} words speech do not exceed the word limit.\"\n",
        "  prompt = combined_sentences\n",
        "  output = llm(\n",
        "    f\"<|im_start|>system\\n{system_message}<|im_end|>\\n<|im_start|>user\\n{prompt}<|im_end|>\\n<|im_start|>assistant\", # Prompt\n",
        "    max_tokens=512,  # Generate up to 512 tokens\n",
        "    stop=[\"</s>\"],   # Example stop token - not necessarily correct for this specific model! Please check before using.\n",
        "    echo=False        # Whether to echo the prompt\n",
        ")\n",
        "  texts = output['choices'][0]['text']\n",
        "  return texts"
      ]
    },
    {
      "cell_type": "code",
      "execution_count": null,
      "metadata": {
        "id": "jl4r80GZFjTv"
      },
      "outputs": [],
      "source": [
        "def generate_title_and_tagline(context):\n",
        "  from llama_cpp import Llama\n",
        "\n",
        "  # Set gpu_layers to the number of layers to offload to GPU. Set to 0 if no GPU acceleration is available on your system.\n",
        "  llm = Llama(\n",
        "    model_path=\"./capybarahermes-2.5-mistral-7b.Q4_K_M.gguf\",  # Download the model file first\n",
        "    n_ctx=32768,  # The max sequence length to use - note that longer sequence lengths require much more resources\n",
        "    n_threads=8,            # The number of CPU threads to use, tailor to your system and the resulting performance\n",
        "    n_gpu_layers=35         # The number of layers to offload to GPU, if you have GPU acceleration available\n",
        "  )\n",
        "  # Simple inference example\n",
        "  system_message=\"You are required to generate a title and a tagline based on the content given\"\n",
        "  prompt = context\n",
        "  output = llm(\n",
        "    f\"<|im_start|>system\\n{system_message}<|im_end|>\\n<|im_start|>user\\n{prompt}<|im_end|>\\n<|im_start|>assistant\", # Prompt\n",
        "    max_tokens=512,  # Generate up to 512 tokens\n",
        "    stop=[\"</s>\"],   # Example stop token - not necessarily correct for this specific model! Please check before using.\n",
        "    echo=False        # Whether to echo the prompt\n",
        ")\n",
        "  texts = output['choices'][0]['text']\n",
        "  texts = texts.split('\\n')\n",
        "  for sentence in texts:\n",
        "    if 'Title: ' in sentence:\n",
        "      # Note that the title has \"\"\n",
        "      title=sentence.split('Title: ')[1].replace('\"','')\n",
        "    elif 'Tagline: ' in sentence:\n",
        "      tagline=sentence.split('Tagline: ')[1].replace('\"','').rstrip('.')\n",
        "  return tagline, title"
      ]
    },
    {
      "cell_type": "code",
      "execution_count": null,
      "metadata": {
        "id": "NnPt6LL5BBtb"
      },
      "outputs": [],
      "source": [
        "def generate_theme_for_music(context):\n",
        "  from llama_cpp import Llama\n",
        "\n",
        "  # Set gpu_layers to the number of layers to offload to GPU. Set to 0 if no GPU acceleration is available on your system.\n",
        "  llm = Llama(\n",
        "    model_path=\"./capybarahermes-2.5-mistral-7b.Q4_K_M.gguf\",  # Download the model file first\n",
        "    n_ctx=32768,  # The max sequence length to use - note that longer sequence lengths require much more resources\n",
        "    n_threads=8,            # The number of CPU threads to use, tailor to your system and the resulting performance\n",
        "    n_gpu_layers=35         # The number of layers to offload to GPU, if you have GPU acceleration available\n",
        "  )\n",
        "  # Simple inference example\n",
        "  system_message=\"You are required to generate a music genre name fit for a background music over the content. The output will be the genre only.\"\n",
        "  prompt = context\n",
        "  output = llm(\n",
        "    f\"<|im_start|>system\\n{system_message}<|im_end|>\\n<|im_start|>user\\n{prompt}<|im_end|>\\n<|im_start|>assistant\", # Prompt\n",
        "    max_tokens=512,  # Generate up to 512 tokens\n",
        "    stop=[\"</s>\"],   # Example stop token - not necessarily correct for this specific model! Please check before using.\n",
        "    echo=False        # Whether to echo the prompt\n",
        ")\n",
        "  texts = output['choices'][0]['text']\n",
        "  texts = texts.split('\\n')\n",
        "\n",
        "  for text in texts:\n",
        "    if text !='':\n",
        "      genre= text\n",
        "  return genre"
      ]
    },
    {
      "cell_type": "code",
      "execution_count": null,
      "metadata": {
        "id": "qit3gpxN-JNj"
      },
      "outputs": [],
      "source": [
        "context = \"\"\"Healthier SG is a major transformation of our healthcare system. We are shifting our emphasis from reactively caring for those who are sick, to proactively preventing individuals from falling ill. The key is for our population to reshape their health-seeking behaviours and lifestyles. To achieve this, we need to anchor Singapore residents with a family doctor, and foster community support for healthier lifestyles. Healthier SG will prevent or delay the deterioration of health, reduce the burden on loved ones, extend healthy life years and improve residents’ quality of life. It will also moderate the increase in healthcare expenditure over time. Since March 2022, we have consulted more than 6,000 residents, and extensively engaged stakeholders such as private General Practitioners (GPs), employers and community partners to design the key features of Healthier SG, as described in this White Paper.\n",
        "Residents:\n",
        "Individuals who visit a regular family doctor are generally healthier and have fewer visits to the emergency departments and hospitals. However, most doctor-patient relationships today are transactional and episodic, with residents visiting doctors to get medication for acute symptoms or medical certificates. Under Healthier SG, residents will be encouraged to choose and enrol with a family doctor. Residents will have some flexibility to change their family doctor to take into account changes in their life circumstances. The family doctor will serve as the first point-of-contact to holistically manage the residents’ health. To encourage residents to follow their health plan and to seek care with their enrolled family doctor, we will: • Fully subsidise nationally recommended screenings and vaccinations for Singapore Citizens; • Waive the requirement for residents to co-pay part of their bills in cash when using MediSave for chronic care management; • Introduce a new Community Health Assist Scheme (CHAS) drug subsidy tier for a whitelist of chronic disease management drugs so that their prices at private GP clinics are comparable with those at polyclinics; and • Leverage the health points system under the National Steps Challenge to offer rewards to residents for enrolling and completing their first consultation with their selected family doctor and for leading active and healthy lifestyles\n",
        "Community partner:\n",
        "Improving our health goes beyond a doctor’s visit. Family doctors will be able to make social prescriptions and encourage residents to adopt healthier lifestyles. Healthier SG will make it easier for residents to consciously connect to the wide range of activities provided by agencies such as Health Promotion Board, Agency for Integrated Care, People’s Association, Sport Singapore, and community partners. Additional support will be made available for seniors through our Eldercare Centres (ECs). By 2025, we can expect both the network and the service offerings of all ECs to be expanded and enhanced.\n",
        "\"\"\""
      ]
    },
    {
      "cell_type": "code",
      "source": [
        "data, story, narration = generate_sentences_and_storyboard(context)"
      ],
      "metadata": {
        "colab": {
          "base_uri": "https://localhost:8080/"
        },
        "id": "99REdjw1fblV",
        "outputId": "b3068f3b-289f-411c-cbfb-cf7a67ead334"
      },
      "execution_count": null,
      "outputs": [
        {
          "output_type": "stream",
          "name": "stderr",
          "text": [
            "AVX = 1 | AVX_VNNI = 0 | AVX2 = 1 | AVX512 = 1 | AVX512_VBMI = 0 | AVX512_VNNI = 0 | FMA = 1 | NEON = 0 | ARM_FMA = 0 | F16C = 1 | FP16_VA = 0 | WASM_SIMD = 0 | BLAS = 1 | SSE3 = 1 | SSSE3 = 1 | VSX = 0 | \n",
            "Model metadata: {'tokenizer.chat_template': \"{% for message in messages %}{{'<|im_start|>' + message['role'] + '\\n' + message['content'] + '<|im_end|>' + '\\n'}}{% endfor %}{% if add_generation_prompt %}{{ '<|im_start|>assistant\\n' }}{% endif %}\", 'tokenizer.ggml.add_eos_token': 'false', 'tokenizer.ggml.padding_token_id': '0', 'tokenizer.ggml.unknown_token_id': '0', 'tokenizer.ggml.eos_token_id': '32000', 'general.architecture': 'llama', 'llama.rope.freq_base': '10000.000000', 'llama.context_length': '32768', 'general.name': 'argilla_capybarahermes-2.5-mistral-7b', 'tokenizer.ggml.add_bos_token': 'true', 'llama.embedding_length': '4096', 'llama.feed_forward_length': '14336', 'llama.attention.layer_norm_rms_epsilon': '0.000010', 'llama.rope.dimension_count': '128', 'tokenizer.ggml.bos_token_id': '1', 'llama.attention.head_count': '32', 'llama.block_count': '32', 'llama.attention.head_count_kv': '8', 'general.quantization_version': '2', 'tokenizer.ggml.model': 'llama', 'general.file_type': '15'}\n",
            "Guessed chat format: chatml\n"
          ]
        },
        {
          "output_type": "stream",
          "name": "stdout",
          "text": [
            "\n",
            "Scene: Residents at a park exercising\n",
            "Content: Regular exercise is important for maintaining health. Healthier SG encourages residents to lead an active lifestyle.\n",
            "\n",
            "Scene: Residents eating healthy meals at home\n",
            "Content: Under Healthier SG, residents are encouraged to make healthier food choices.\n",
            "\n",
            "Scene: Residents visiting a family doctor's clinic\n",
            "Content: Residents will enroll with a family doctor for holistic health management.\n",
            "\n",
            "Scene: Residents receiving nationally recommended screenings and vaccinations\n",
            "Content: Healthier SG fully subsidizes these services for Singapore Citizens.\n",
            "\n",
            "Scene: Residents discussing health plans with their family doctor\n",
            "Content: The family doctor serves as the first point-of-contact for residents' health needs.\n",
            "\n",
            "Scene: Residents using MediSave for chronic care management without co-payments\n",
            "Content: Healthier SG waives part of residents' cash payments when using MediSave.\n",
            "\n",
            "Scene: Residents at a community health event\n",
            "Content: Healthier SG helps residents connect to various activities provided by community partners.\n",
            "\n",
            "Scene: Residents participating in National Steps Challenge\n",
            "Content: The challenge offers rewards for following health plans and leading active lifestyles.\n",
            "\n",
            "Scene: Residents attending an Eldercare Centre workshop\n",
            "Content: Additional support is provided for seniors through Healthier SG's enhanced Eldercare Centres.\n",
            "\n",
            "Scene: Residents receiving social prescriptions from their family doctor\n",
            "Content: Family doctors can recommend health-boosting community activities.\n",
            "\n",
            "Scene: Residents at a health workshop led by Health Promotion Board\n",
            "Content: Healthier SG makes it easier for residents to access health information and resources.\n",
            "\n",
            "Scene: Residents using Community Health Assist Scheme drug subsidy at a private GP clinic\n",
            "Content: Subsidies make chronic disease management drugs more affordable.\n",
            "\n",
            "Scene: Residents celebrating improved health and quality of life under Healthier SG\n",
            "Content: Healthier SG aims to prevent illness, delay health deterioration, and extend healthy life years.\n",
            "\n",
            "Scene: Residents attending a community sports event\n",
            "Content: Healthier SG supports residents in adopting healthier lifestyles through sports and activities.\n",
            "\n",
            "Scene: Residents discussing their health plans with family members\n",
            "Content: Healthier SG promotes family support for healthier lifestyles.\n",
            "\n",
            "Scene: Residents receiving assistance at an Eldercare Centre\n",
            "Content: Enhanced services at Eldercare Centres support seniors under Healthier SG.\n",
            "\n",
            "Scene: Residents at a polyclinic receiving nationally recommended screenings and vaccinations\n",
            "Content: Healthier SG makes essential health services more accessible.\n",
            "\n",
            "Scene: Residents discussing their health plans and goals with their family doctor at annual check-ups\n",
            "Content: Regular check-ups help residents stay on track with their health plans.\n",
            "\n",
            "Scene: Residents shopping for healthier food options at a supermarket\n",
            "Content: Healthier SG encourages residents to make healthier food choices at the grocery store.\n",
            "\n",
            "Scene: Residents at a community health fair learning about healthy lifestyle choices\n",
            "Content: Healthier SG promotes awareness of healthy living through community events.\n",
            "\n",
            "Scene: Residents engaging in group exercise classes at community centers\n",
            "Content: Healthier SG supports residents in finding social support for healthy activities.\n",
            "\n",
            "Scene: Residents celebrating their health achievements together in community settings\n",
            "Content: Healthier SG fosters community support for healthier lifestyles.\n"
          ]
        }
      ]
    },
    {
      "cell_type": "code",
      "execution_count": null,
      "metadata": {
        "colab": {
          "base_uri": "https://localhost:8080/"
        },
        "id": "jf_n-aWw6SYd",
        "outputId": "917638ce-151b-4217-b670-1f279a34b34e"
      },
      "outputs": [
        {
          "output_type": "stream",
          "name": "stderr",
          "text": [
            "AVX = 1 | AVX_VNNI = 0 | AVX2 = 1 | AVX512 = 1 | AVX512_VBMI = 0 | AVX512_VNNI = 0 | FMA = 1 | NEON = 0 | ARM_FMA = 0 | F16C = 1 | FP16_VA = 0 | WASM_SIMD = 0 | BLAS = 1 | SSE3 = 1 | SSSE3 = 1 | VSX = 0 | \n",
            "Model metadata: {'tokenizer.chat_template': \"{% for message in messages %}{{'<|im_start|>' + message['role'] + '\\n' + message['content'] + '<|im_end|>' + '\\n'}}{% endfor %}{% if add_generation_prompt %}{{ '<|im_start|>assistant\\n' }}{% endif %}\", 'tokenizer.ggml.add_eos_token': 'false', 'tokenizer.ggml.padding_token_id': '0', 'tokenizer.ggml.unknown_token_id': '0', 'tokenizer.ggml.eos_token_id': '32000', 'general.architecture': 'llama', 'llama.rope.freq_base': '10000.000000', 'llama.context_length': '32768', 'general.name': 'argilla_capybarahermes-2.5-mistral-7b', 'tokenizer.ggml.add_bos_token': 'true', 'llama.embedding_length': '4096', 'llama.feed_forward_length': '14336', 'llama.attention.layer_norm_rms_epsilon': '0.000010', 'llama.rope.dimension_count': '128', 'tokenizer.ggml.bos_token_id': '1', 'llama.attention.head_count': '32', 'llama.block_count': '32', 'llama.attention.head_count_kv': '8', 'general.quantization_version': '2', 'tokenizer.ggml.model': 'llama', 'general.file_type': '15'}\n",
            "Guessed chat format: chatml\n",
            "AVX = 1 | AVX_VNNI = 0 | AVX2 = 1 | AVX512 = 1 | AVX512_VBMI = 0 | AVX512_VNNI = 0 | FMA = 1 | NEON = 0 | ARM_FMA = 0 | F16C = 1 | FP16_VA = 0 | WASM_SIMD = 0 | BLAS = 1 | SSE3 = 1 | SSSE3 = 1 | VSX = 0 | \n",
            "Model metadata: {'tokenizer.chat_template': \"{% for message in messages %}{{'<|im_start|>' + message['role'] + '\\n' + message['content'] + '<|im_end|>' + '\\n'}}{% endfor %}{% if add_generation_prompt %}{{ '<|im_start|>assistant\\n' }}{% endif %}\", 'tokenizer.ggml.add_eos_token': 'false', 'tokenizer.ggml.padding_token_id': '0', 'tokenizer.ggml.unknown_token_id': '0', 'tokenizer.ggml.eos_token_id': '32000', 'general.architecture': 'llama', 'llama.rope.freq_base': '10000.000000', 'llama.context_length': '32768', 'general.name': 'argilla_capybarahermes-2.5-mistral-7b', 'tokenizer.ggml.add_bos_token': 'true', 'llama.embedding_length': '4096', 'llama.feed_forward_length': '14336', 'llama.attention.layer_norm_rms_epsilon': '0.000010', 'llama.rope.dimension_count': '128', 'tokenizer.ggml.bos_token_id': '1', 'llama.attention.head_count': '32', 'llama.block_count': '32', 'llama.attention.head_count_kv': '8', 'general.quantization_version': '2', 'tokenizer.ggml.model': 'llama', 'general.file_type': '15'}\n",
            "Guessed chat format: chatml\n",
            "AVX = 1 | AVX_VNNI = 0 | AVX2 = 1 | AVX512 = 1 | AVX512_VBMI = 0 | AVX512_VNNI = 0 | FMA = 1 | NEON = 0 | ARM_FMA = 0 | F16C = 1 | FP16_VA = 0 | WASM_SIMD = 0 | BLAS = 1 | SSE3 = 1 | SSSE3 = 1 | VSX = 0 | \n",
            "Model metadata: {'tokenizer.chat_template': \"{% for message in messages %}{{'<|im_start|>' + message['role'] + '\\n' + message['content'] + '<|im_end|>' + '\\n'}}{% endfor %}{% if add_generation_prompt %}{{ '<|im_start|>assistant\\n' }}{% endif %}\", 'tokenizer.ggml.add_eos_token': 'false', 'tokenizer.ggml.padding_token_id': '0', 'tokenizer.ggml.unknown_token_id': '0', 'tokenizer.ggml.eos_token_id': '32000', 'general.architecture': 'llama', 'llama.rope.freq_base': '10000.000000', 'llama.context_length': '32768', 'general.name': 'argilla_capybarahermes-2.5-mistral-7b', 'tokenizer.ggml.add_bos_token': 'true', 'llama.embedding_length': '4096', 'llama.feed_forward_length': '14336', 'llama.attention.layer_norm_rms_epsilon': '0.000010', 'llama.rope.dimension_count': '128', 'tokenizer.ggml.bos_token_id': '1', 'llama.attention.head_count': '32', 'llama.block_count': '32', 'llama.attention.head_count_kv': '8', 'general.quantization_version': '2', 'tokenizer.ggml.model': 'llama', 'general.file_type': '15'}\n",
            "Guessed chat format: chatml\n"
          ]
        }
      ],
      "source": [
        "tagline, title = generate_title_and_tagline(context)\n",
        "summary = generate_text_for_voiceover(narration)\n",
        "genre=generate_theme_for_music(context)\n",
        "string = f'{tagline}, with title \"{title}\" on it,Movie Poster, MoviePosterRedAF,,'"
      ]
    },
    {
      "cell_type": "code",
      "execution_count": null,
      "metadata": {
        "colab": {
          "base_uri": "https://localhost:8080/",
          "height": 70
        },
        "id": "2K3cz2HEEPyH",
        "outputId": "593c2d2e-0256-41b0-d2a5-0c5baaed65ca"
      },
      "outputs": [
        {
          "output_type": "execute_result",
          "data": {
            "text/plain": [
              "'Uniting residents, family doctors, and community partners for a healthier and more sustainable Singapore, with title \"Empowering Healthier Lifestyles: Shaping Singapore\\'s Future with Healthier SG\" on it,Movie Poster, MoviePosterRedAF,,'"
            ],
            "application/vnd.google.colaboratory.intrinsic+json": {
              "type": "string"
            }
          },
          "metadata": {},
          "execution_count": 20
        }
      ],
      "source": [
        "string"
      ]
    },
    {
      "cell_type": "code",
      "source": [
        "narration"
      ],
      "metadata": {
        "colab": {
          "base_uri": "https://localhost:8080/"
        },
        "id": "-IFZGB34d278",
        "outputId": "7aa20a5c-112f-4db2-8f52-ee8c2f04bf01"
      },
      "execution_count": null,
      "outputs": [
        {
          "output_type": "execute_result",
          "data": {
            "text/plain": [
              "['Regular exercise is important for maintaining health. Healthier SG encourages residents to lead an active lifestyle.',\n",
              " 'Under Healthier SG, residents are encouraged to make healthier food choices.',\n",
              " 'Residents will enroll with a family doctor for holistic health management.',\n",
              " 'Healthier SG fully subsidizes these services for Singapore Citizens.',\n",
              " \"The family doctor serves as the first point-of-contact for residents' health needs.\",\n",
              " \"Healthier SG waives part of residents' cash payments when using MediSave.\",\n",
              " 'Healthier SG helps residents connect to various activities provided by community partners.',\n",
              " 'The challenge offers rewards for following health plans and leading active lifestyles.',\n",
              " \"Additional support is provided for seniors through Healthier SG's enhanced Eldercare Centres.\",\n",
              " 'Family doctors can recommend health-boosting community activities.',\n",
              " 'Healthier SG makes it easier for residents to access health information and resources.',\n",
              " 'Subsidies make chronic disease management drugs more affordable.',\n",
              " 'Healthier SG aims to prevent illness, delay health deterioration, and extend healthy life years.',\n",
              " 'Healthier SG supports residents in adopting healthier lifestyles through sports and activities.',\n",
              " 'Healthier SG promotes family support for healthier lifestyles.',\n",
              " 'Enhanced services at Eldercare Centres support seniors under Healthier SG.',\n",
              " 'Healthier SG makes essential health services more accessible.',\n",
              " 'Regular check-ups help residents stay on track with their health plans.',\n",
              " 'Healthier SG encourages residents to make healthier food choices at the grocery store.',\n",
              " 'Healthier SG promotes awareness of healthy living through community events.',\n",
              " 'Healthier SG supports residents in finding social support for healthy activities.',\n",
              " 'Healthier SG fosters community support for healthier lifestyles.']"
            ]
          },
          "metadata": {},
          "execution_count": 21
        }
      ]
    },
    {
      "cell_type": "code",
      "source": [
        "summary"
      ],
      "metadata": {
        "colab": {
          "base_uri": "https://localhost:8080/",
          "height": 191
        },
        "id": "3lAcxQHOLUt6",
        "outputId": "757c79de-c8e0-493f-a15f-52beab36a70d"
      },
      "execution_count": null,
      "outputs": [
        {
          "output_type": "execute_result",
          "data": {
            "text/plain": [
              "\"\\nRegular exercise plays an essential role in maintaining good health, and Healthier SG is a program designed to encourage residents of Singapore to lead an active lifestyle. Through Healthier SG, residents are encouraged to not only engage in regular physical activity but also to make healthier food choices as part of their overall wellness plan.\\n\\nOne key aspect of Healthier SG is the relationship between residents and their family doctor. This primary care physician serves as the first point of contact for residents' health needs and plays an integral role in holistic health management. To further support residents in their quest for better health, Healthier SG fully subsidizes these services for Singapore Citizens, making it more accessible and affordable.\\n\\nHealthier SG also supports residents by waiving part of their cash payments when using MediSave, enabling them to save money while investing in their health. In addition, the program helps residents connect with various community partners who provide activities designed to promote healthy living.\\n\\nTo motivate residents in following their health plans and leading active lifestyles, Healthier SG offers rewards and challenges. This not only makes the journey towards better health more engaging but also helps foster a sense of achievement and pride in one's accomplishments. For seniors, additional support is provided through Healthier SG's enhanced Eldercare Centers, which offer an array of services designed specifically for their needs.\\n\\nHealthier SG also recognizes the importance of community support in promoting and maintaining healthy lifestyles. Family doctors can recommend health-boosting community activities, and residents can find social support for healthy activities through this program. Furthermore, Healthier SG makes essential health services more accessible by making information and resources easier to obtain and understand.\\n\\nSubsidies in Healthier SG also make chronic disease management drugs more affordable, preventing illness and delaying health deterioration. By offering these comprehensive and integrated services, Healthier SG aims to extend healthy life years and support residents in adopting healthier lifestyles through sports and activities. The program also promotes family support for healthy living, understanding that familial bonding can contribute to better health outcomes.\\n\\nIn summary, Healthier SG is a comprehensive program designed to encourage residents of Singapore to lead an active lifestyle and make healthier choices. By providing subsidies and support services, fostering community connections and awareness, and offering rewards and challenges, Healthier SG is making strides in promoting\""
            ],
            "application/vnd.google.colaboratory.intrinsic+json": {
              "type": "string"
            }
          },
          "metadata": {},
          "execution_count": 22
        }
      ]
    },
    {
      "cell_type": "code",
      "source": [
        "data"
      ],
      "metadata": {
        "colab": {
          "base_uri": "https://localhost:8080/"
        },
        "id": "Q1NgroBlMIYH",
        "outputId": "7eb8c2f5-f32a-4900-b9cf-bb9e7f349f66"
      },
      "execution_count": null,
      "outputs": [
        {
          "output_type": "execute_result",
          "data": {
            "text/plain": [
              "['Residents at a park exercising',\n",
              " 'Residents eating healthy meals at home',\n",
              " \"Residents visiting a family doctor's clinic\",\n",
              " 'Residents receiving nationally recommended screenings and vaccinations',\n",
              " 'Residents discussing health plans with their family doctor',\n",
              " 'Residents using MediSave for chronic care management without co-payments',\n",
              " 'Residents at a community health event',\n",
              " 'Residents participating in National Steps Challenge',\n",
              " 'Residents attending an Eldercare Centre workshop',\n",
              " 'Residents receiving social prescriptions from their family doctor',\n",
              " 'Residents at a health workshop led by Health Promotion Board',\n",
              " 'Residents using Community Health Assist Scheme drug subsidy at a private GP clinic',\n",
              " 'Residents celebrating improved health and quality of life under Healthier SG',\n",
              " 'Residents attending a community sports event',\n",
              " 'Residents discussing their health plans with family members',\n",
              " 'Residents receiving assistance at an Eldercare Centre',\n",
              " 'Residents at a polyclinic receiving nationally recommended screenings and vaccinations',\n",
              " 'Residents discussing their health plans and goals with their family doctor at annual check-ups',\n",
              " 'Residents shopping for healthier food options at a supermarket',\n",
              " 'Residents at a community health fair learning about healthy lifestyle choices',\n",
              " 'Residents engaging in group exercise classes at community centers',\n",
              " 'Residents celebrating their health achievements together in community settings']"
            ]
          },
          "metadata": {},
          "execution_count": 23
        }
      ]
    },
    {
      "cell_type": "code",
      "source": [
        "genre"
      ],
      "metadata": {
        "colab": {
          "base_uri": "https://localhost:8080/",
          "height": 35
        },
        "id": "as9HDrqbMLM-",
        "outputId": "d5b095f9-1ed6-49d4-e853-82940b4fc680"
      },
      "execution_count": null,
      "outputs": [
        {
          "output_type": "execute_result",
          "data": {
            "text/plain": [
              "'Health-Centric Symphony'"
            ],
            "application/vnd.google.colaboratory.intrinsic+json": {
              "type": "string"
            }
          },
          "metadata": {},
          "execution_count": 24
        }
      ]
    },
    {
      "cell_type": "code",
      "source": [
        "story"
      ],
      "metadata": {
        "colab": {
          "base_uri": "https://localhost:8080/"
        },
        "id": "MOD3yps3MMXt",
        "outputId": "2d6fce8d-af45-4804-fc6d-a14e15731786"
      },
      "execution_count": null,
      "outputs": [
        {
          "output_type": "execute_result",
          "data": {
            "text/plain": [
              "['Scene: Residents at a park exercising',\n",
              " 'Content: Regular exercise is important for maintaining health. Healthier SG encourages residents to lead an active lifestyle.',\n",
              " 'Scene: Residents eating healthy meals at home',\n",
              " 'Content: Under Healthier SG, residents are encouraged to make healthier food choices.',\n",
              " \"Scene: Residents visiting a family doctor's clinic\",\n",
              " 'Content: Residents will enroll with a family doctor for holistic health management.',\n",
              " 'Scene: Residents receiving nationally recommended screenings and vaccinations',\n",
              " 'Content: Healthier SG fully subsidizes these services for Singapore Citizens.',\n",
              " 'Scene: Residents discussing health plans with their family doctor',\n",
              " \"Content: The family doctor serves as the first point-of-contact for residents' health needs.\",\n",
              " 'Scene: Residents using MediSave for chronic care management without co-payments',\n",
              " \"Content: Healthier SG waives part of residents' cash payments when using MediSave.\",\n",
              " 'Scene: Residents at a community health event',\n",
              " 'Content: Healthier SG helps residents connect to various activities provided by community partners.',\n",
              " 'Scene: Residents participating in National Steps Challenge',\n",
              " 'Content: The challenge offers rewards for following health plans and leading active lifestyles.',\n",
              " 'Scene: Residents attending an Eldercare Centre workshop',\n",
              " \"Content: Additional support is provided for seniors through Healthier SG's enhanced Eldercare Centres.\",\n",
              " 'Scene: Residents receiving social prescriptions from their family doctor',\n",
              " 'Content: Family doctors can recommend health-boosting community activities.',\n",
              " 'Scene: Residents at a health workshop led by Health Promotion Board',\n",
              " 'Content: Healthier SG makes it easier for residents to access health information and resources.',\n",
              " 'Scene: Residents using Community Health Assist Scheme drug subsidy at a private GP clinic',\n",
              " 'Content: Subsidies make chronic disease management drugs more affordable.',\n",
              " 'Scene: Residents celebrating improved health and quality of life under Healthier SG',\n",
              " 'Content: Healthier SG aims to prevent illness, delay health deterioration, and extend healthy life years.',\n",
              " 'Scene: Residents attending a community sports event',\n",
              " 'Content: Healthier SG supports residents in adopting healthier lifestyles through sports and activities.',\n",
              " 'Scene: Residents discussing their health plans with family members',\n",
              " 'Content: Healthier SG promotes family support for healthier lifestyles.',\n",
              " 'Scene: Residents receiving assistance at an Eldercare Centre',\n",
              " 'Content: Enhanced services at Eldercare Centres support seniors under Healthier SG.',\n",
              " 'Scene: Residents at a polyclinic receiving nationally recommended screenings and vaccinations',\n",
              " 'Content: Healthier SG makes essential health services more accessible.',\n",
              " 'Scene: Residents discussing their health plans and goals with their family doctor at annual check-ups',\n",
              " 'Content: Regular check-ups help residents stay on track with their health plans.',\n",
              " 'Scene: Residents shopping for healthier food options at a supermarket',\n",
              " 'Content: Healthier SG encourages residents to make healthier food choices at the grocery store.',\n",
              " 'Scene: Residents at a community health fair learning about healthy lifestyle choices',\n",
              " 'Content: Healthier SG promotes awareness of healthy living through community events.',\n",
              " 'Scene: Residents engaging in group exercise classes at community centers',\n",
              " 'Content: Healthier SG supports residents in finding social support for healthy activities.',\n",
              " 'Scene: Residents celebrating their health achievements together in community settings',\n",
              " 'Content: Healthier SG fosters community support for healthier lifestyles.']"
            ]
          },
          "metadata": {},
          "execution_count": 29
        }
      ]
    },
    {
      "cell_type": "code",
      "source": [
        "import pickle"
      ],
      "metadata": {
        "id": "3fdJT8mr3aV9"
      },
      "execution_count": null,
      "outputs": []
    },
    {
      "cell_type": "code",
      "source": [
        "# Specify file paths for each variable\n",
        "story_pickle_file = 'story_data.pickle'\n",
        "genre_pickle_file = 'genre_data.pickle'\n",
        "tagline_pickle_file = 'tagline_data.pickle'\n",
        "summary_pickle_file = 'summary_data.pickle'\n",
        "string_pickle_file = 'string_data.pickle'\n",
        "data_pickle_file = 'data.pickle'\n",
        "\n",
        "# Export each variable to its respective pickle file\n",
        "with open(story_pickle_file, 'wb') as pickle_file:\n",
        "    pickle.dump(story, pickle_file)\n",
        "\n",
        "with open(genre_pickle_file, 'wb') as pickle_file:\n",
        "    pickle.dump(genre, pickle_file)\n",
        "\n",
        "with open(tagline_pickle_file, 'wb') as pickle_file:\n",
        "    pickle.dump(tagline, pickle_file)\n",
        "\n",
        "with open(summary_pickle_file, 'wb') as pickle_file:\n",
        "    pickle.dump(summary, pickle_file)\n",
        "\n",
        "with open(string_pickle_file, 'wb') as pickle_file:\n",
        "    pickle.dump(string, pickle_file)\n",
        "\n",
        "with open(data_pickle_file, 'wb') as pickle_file:\n",
        "    pickle.dump(data, pickle_file)"
      ],
      "metadata": {
        "id": "VoOcDKSR21u2"
      },
      "execution_count": null,
      "outputs": []
    },
    {
      "cell_type": "code",
      "source": [],
      "metadata": {
        "id": "-FH6UNyH7PS4"
      },
      "execution_count": null,
      "outputs": []
    }
  ],
  "metadata": {
    "accelerator": "GPU",
    "colab": {
      "provenance": [],
      "gpuType": "T4"
    },
    "kernelspec": {
      "display_name": "Python 3",
      "name": "python3"
    },
    "language_info": {
      "name": "python"
    }
  },
  "nbformat": 4,
  "nbformat_minor": 0
}